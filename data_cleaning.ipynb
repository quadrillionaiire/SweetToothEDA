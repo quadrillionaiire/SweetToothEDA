{
 "cells": [
  {
   "cell_type": "markdown",
   "metadata": {},
   "source": [
    "# Exploring the Data"
   ]
  },
  {
   "cell_type": "markdown",
   "metadata": {},
   "source": [
    "## 1.1 Load the Datasets\n",
    "- Use head(), info(), and describe() methods to get a quick overview of each dataset."
   ]
  },
  {
   "cell_type": "code",
   "execution_count": 229,
   "metadata": {},
   "outputs": [],
   "source": [
    "#import the necessary libraries\n",
    "import pandas as pd \n",
    "import numpy as np\n",
    "import matplotlib.pyplot as plt\n",
    "import seaborn as sns "
   ]
  },
  {
   "cell_type": "markdown",
   "metadata": {},
   "source": [
    "### Chocolate Bar Ratings"
   ]
  },
  {
   "cell_type": "code",
   "execution_count": 230,
   "metadata": {},
   "outputs": [],
   "source": [
    "#Load the dataset\n",
    "file_path = '/Users/saniaspry/Documents/Flatiron/Phase-3/rapideda/chocolate bar ratings eda/flavors_of_cacao.csv'\n",
    "df = pd.read_csv(file_path)"
   ]
  },
  {
   "cell_type": "code",
   "execution_count": 231,
   "metadata": {},
   "outputs": [
    {
     "data": {
      "text/html": [
       "<div>\n",
       "<style scoped>\n",
       "    .dataframe tbody tr th:only-of-type {\n",
       "        vertical-align: middle;\n",
       "    }\n",
       "\n",
       "    .dataframe tbody tr th {\n",
       "        vertical-align: top;\n",
       "    }\n",
       "\n",
       "    .dataframe thead th {\n",
       "        text-align: right;\n",
       "    }\n",
       "</style>\n",
       "<table border=\"1\" class=\"dataframe\">\n",
       "  <thead>\n",
       "    <tr style=\"text-align: right;\">\n",
       "      <th></th>\n",
       "      <th>Company \\n(Maker-if known)</th>\n",
       "      <th>Specific Bean Origin\\nor Bar Name</th>\n",
       "      <th>REF</th>\n",
       "      <th>Review\\nDate</th>\n",
       "      <th>Cocoa\\nPercent</th>\n",
       "      <th>Company\\nLocation</th>\n",
       "      <th>Rating</th>\n",
       "      <th>Bean\\nType</th>\n",
       "      <th>Broad Bean\\nOrigin</th>\n",
       "    </tr>\n",
       "  </thead>\n",
       "  <tbody>\n",
       "    <tr>\n",
       "      <th>0</th>\n",
       "      <td>A. Morin</td>\n",
       "      <td>Agua Grande</td>\n",
       "      <td>1876</td>\n",
       "      <td>2016</td>\n",
       "      <td>63%</td>\n",
       "      <td>France</td>\n",
       "      <td>3.75</td>\n",
       "      <td></td>\n",
       "      <td>Sao Tome</td>\n",
       "    </tr>\n",
       "    <tr>\n",
       "      <th>1</th>\n",
       "      <td>A. Morin</td>\n",
       "      <td>Kpime</td>\n",
       "      <td>1676</td>\n",
       "      <td>2015</td>\n",
       "      <td>70%</td>\n",
       "      <td>France</td>\n",
       "      <td>2.75</td>\n",
       "      <td></td>\n",
       "      <td>Togo</td>\n",
       "    </tr>\n",
       "    <tr>\n",
       "      <th>2</th>\n",
       "      <td>A. Morin</td>\n",
       "      <td>Atsane</td>\n",
       "      <td>1676</td>\n",
       "      <td>2015</td>\n",
       "      <td>70%</td>\n",
       "      <td>France</td>\n",
       "      <td>3.00</td>\n",
       "      <td></td>\n",
       "      <td>Togo</td>\n",
       "    </tr>\n",
       "    <tr>\n",
       "      <th>3</th>\n",
       "      <td>A. Morin</td>\n",
       "      <td>Akata</td>\n",
       "      <td>1680</td>\n",
       "      <td>2015</td>\n",
       "      <td>70%</td>\n",
       "      <td>France</td>\n",
       "      <td>3.50</td>\n",
       "      <td></td>\n",
       "      <td>Togo</td>\n",
       "    </tr>\n",
       "    <tr>\n",
       "      <th>4</th>\n",
       "      <td>A. Morin</td>\n",
       "      <td>Quilla</td>\n",
       "      <td>1704</td>\n",
       "      <td>2015</td>\n",
       "      <td>70%</td>\n",
       "      <td>France</td>\n",
       "      <td>3.50</td>\n",
       "      <td></td>\n",
       "      <td>Peru</td>\n",
       "    </tr>\n",
       "  </tbody>\n",
       "</table>\n",
       "</div>"
      ],
      "text/plain": [
       "  Company \\n(Maker-if known) Specific Bean Origin\\nor Bar Name   REF  \\\n",
       "0                   A. Morin                       Agua Grande  1876   \n",
       "1                   A. Morin                             Kpime  1676   \n",
       "2                   A. Morin                            Atsane  1676   \n",
       "3                   A. Morin                             Akata  1680   \n",
       "4                   A. Morin                            Quilla  1704   \n",
       "\n",
       "   Review\\nDate Cocoa\\nPercent Company\\nLocation  Rating Bean\\nType  \\\n",
       "0          2016            63%            France    3.75              \n",
       "1          2015            70%            France    2.75              \n",
       "2          2015            70%            France    3.00              \n",
       "3          2015            70%            France    3.50              \n",
       "4          2015            70%            France    3.50              \n",
       "\n",
       "  Broad Bean\\nOrigin  \n",
       "0           Sao Tome  \n",
       "1               Togo  \n",
       "2               Togo  \n",
       "3               Togo  \n",
       "4               Peru  "
      ]
     },
     "execution_count": 231,
     "metadata": {},
     "output_type": "execute_result"
    }
   ],
   "source": [
    "df.head()"
   ]
  },
  {
   "cell_type": "code",
   "execution_count": 232,
   "metadata": {},
   "outputs": [
    {
     "name": "stdout",
     "output_type": "stream",
     "text": [
      "<class 'pandas.core.frame.DataFrame'>\n",
      "RangeIndex: 1795 entries, 0 to 1794\n",
      "Data columns (total 9 columns):\n",
      " #   Column                            Non-Null Count  Dtype  \n",
      "---  ------                            --------------  -----  \n",
      " 0   Company \n",
      "(Maker-if known)         1795 non-null   object \n",
      " 1   Specific Bean Origin\n",
      "or Bar Name  1795 non-null   object \n",
      " 2   REF                               1795 non-null   int64  \n",
      " 3   Review\n",
      "Date                       1795 non-null   int64  \n",
      " 4   Cocoa\n",
      "Percent                     1795 non-null   object \n",
      " 5   Company\n",
      "Location                  1795 non-null   object \n",
      " 6   Rating                            1795 non-null   float64\n",
      " 7   Bean\n",
      "Type                         1794 non-null   object \n",
      " 8   Broad Bean\n",
      "Origin                 1794 non-null   object \n",
      "dtypes: float64(1), int64(2), object(6)\n",
      "memory usage: 126.3+ KB\n"
     ]
    }
   ],
   "source": [
    "#concise summary of info\n",
    "df.info()"
   ]
  },
  {
   "cell_type": "markdown",
   "metadata": {},
   "source": [
    "- missing value in broad bean origin \n",
    "- missing value  in bean type\n",
    "- cocoa percentage should be converted to a float for better analysis"
   ]
  },
  {
   "cell_type": "code",
   "execution_count": 233,
   "metadata": {},
   "outputs": [
    {
     "data": {
      "text/html": [
       "<div>\n",
       "<style scoped>\n",
       "    .dataframe tbody tr th:only-of-type {\n",
       "        vertical-align: middle;\n",
       "    }\n",
       "\n",
       "    .dataframe tbody tr th {\n",
       "        vertical-align: top;\n",
       "    }\n",
       "\n",
       "    .dataframe thead th {\n",
       "        text-align: right;\n",
       "    }\n",
       "</style>\n",
       "<table border=\"1\" class=\"dataframe\">\n",
       "  <thead>\n",
       "    <tr style=\"text-align: right;\">\n",
       "      <th></th>\n",
       "      <th>REF</th>\n",
       "      <th>Review\\nDate</th>\n",
       "      <th>Rating</th>\n",
       "    </tr>\n",
       "  </thead>\n",
       "  <tbody>\n",
       "    <tr>\n",
       "      <th>count</th>\n",
       "      <td>1795.000000</td>\n",
       "      <td>1795.000000</td>\n",
       "      <td>1795.000000</td>\n",
       "    </tr>\n",
       "    <tr>\n",
       "      <th>mean</th>\n",
       "      <td>1035.904735</td>\n",
       "      <td>2012.325348</td>\n",
       "      <td>3.185933</td>\n",
       "    </tr>\n",
       "    <tr>\n",
       "      <th>std</th>\n",
       "      <td>552.886365</td>\n",
       "      <td>2.927210</td>\n",
       "      <td>0.478062</td>\n",
       "    </tr>\n",
       "    <tr>\n",
       "      <th>min</th>\n",
       "      <td>5.000000</td>\n",
       "      <td>2006.000000</td>\n",
       "      <td>1.000000</td>\n",
       "    </tr>\n",
       "    <tr>\n",
       "      <th>25%</th>\n",
       "      <td>576.000000</td>\n",
       "      <td>2010.000000</td>\n",
       "      <td>2.875000</td>\n",
       "    </tr>\n",
       "    <tr>\n",
       "      <th>50%</th>\n",
       "      <td>1069.000000</td>\n",
       "      <td>2013.000000</td>\n",
       "      <td>3.250000</td>\n",
       "    </tr>\n",
       "    <tr>\n",
       "      <th>75%</th>\n",
       "      <td>1502.000000</td>\n",
       "      <td>2015.000000</td>\n",
       "      <td>3.500000</td>\n",
       "    </tr>\n",
       "    <tr>\n",
       "      <th>max</th>\n",
       "      <td>1952.000000</td>\n",
       "      <td>2017.000000</td>\n",
       "      <td>5.000000</td>\n",
       "    </tr>\n",
       "  </tbody>\n",
       "</table>\n",
       "</div>"
      ],
      "text/plain": [
       "               REF  Review\\nDate       Rating\n",
       "count  1795.000000   1795.000000  1795.000000\n",
       "mean   1035.904735   2012.325348     3.185933\n",
       "std     552.886365      2.927210     0.478062\n",
       "min       5.000000   2006.000000     1.000000\n",
       "25%     576.000000   2010.000000     2.875000\n",
       "50%    1069.000000   2013.000000     3.250000\n",
       "75%    1502.000000   2015.000000     3.500000\n",
       "max    1952.000000   2017.000000     5.000000"
      ]
     },
     "execution_count": 233,
     "metadata": {},
     "output_type": "execute_result"
    }
   ],
   "source": [
    "df.describe()"
   ]
  },
  {
   "cell_type": "markdown",
   "metadata": {},
   "source": [
    "## 1.2 Understand the Structure\n",
    "- Identify the key features in each data\n",
    "- Use value_counts() to look at the distribution of key categorical variables"
   ]
  },
  {
   "cell_type": "code",
   "execution_count": 234,
   "metadata": {},
   "outputs": [
    {
     "data": {
      "text/plain": [
       "Index(['Company \\n(Maker-if known)', 'Specific Bean Origin\\nor Bar Name',\n",
       "       'REF', 'Review\\nDate', 'Cocoa\\nPercent', 'Company\\nLocation', 'Rating',\n",
       "       'Bean\\nType', 'Broad Bean\\nOrigin'],\n",
       "      dtype='object')"
      ]
     },
     "execution_count": 234,
     "metadata": {},
     "output_type": "execute_result"
    }
   ],
   "source": [
    "df.columns"
   ]
  },
  {
   "cell_type": "markdown",
   "metadata": {},
   "source": [
    "### Key Data Features\n",
    "- Company (Maker): Brand or manufacturer of the chocolate.\n",
    "- Specific Bean Origin/Bar Name: Source of the cocoa or name of the chocolate bar.\n",
    "- Review Date: Date of the review, useful for trend analysis over time.\n",
    "- Cocoa Percent: Percentage of cocoa in the chocolate bar, influencing flavor.\n",
    "- Company Location: Country of the chocolate maker, reflecting regional quality.\n",
    "- Rating: Score given to each chocolate bar (e.g., 1 to 5 scale).\n",
    "- Bean Type: Type of cocoa bean used (e.g., Forastero, Criollo, Trinitario).\n",
    "- Broad Bean Origin: General geographic region where the beans are sourced.\n",
    "\n",
    "### Key Data Insights\n",
    "- **Average Ratings by Company**: Identify which companies produce the highest-rated chocolate.\n",
    "- **Impact of Cocoa Percentage**: Analyze the correlation between cocoa content and ratings.\n",
    "- **Trends Over Time**: Examine how ratings change over the years.\n",
    "- **Regional Preferences**: Determine which geographical origins yield the best-rated bars.\n",
    "- **Distribution of Ratings**: Understand the overall sentiment towards chocolate bars.\n",
    "- **Effect of Bean Type**: Investigate how different bean types influence ratings.\n",
    "- **Outliers and Quality Control**: Spot exceptional products or potential quality issues.\n",
    "- **Correlation Analysis**: Explore relationships between numeric features (e.g., cocoa percent and ratings).\n"
   ]
  },
  {
   "cell_type": "markdown",
   "metadata": {},
   "source": [
    "# Data Cleaning & Formatting"
   ]
  },
  {
   "cell_type": "markdown",
   "metadata": {},
   "source": [
    "## 2.1 Clean column names"
   ]
  },
  {
   "cell_type": "code",
   "execution_count": 235,
   "metadata": {},
   "outputs": [
    {
     "data": {
      "text/plain": [
       "Index(['Company  (Maker-if known)', 'Specific Bean Origin or Bar Name', 'REF',\n",
       "       'Review Date', 'Cocoa Percent', 'Company Location', 'Rating',\n",
       "       'Bean Type', 'Broad Bean Origin'],\n",
       "      dtype='object')"
      ]
     },
     "execution_count": 235,
     "metadata": {},
     "output_type": "execute_result"
    }
   ],
   "source": [
    "#clean column names by removing \\n and stripping extra white space for better readablitity \n",
    "df.columns = df.columns.str.replace('\\n', ' ', regex=True).str.strip()\n",
    "df.columns"
   ]
  },
  {
   "cell_type": "markdown",
   "metadata": {},
   "source": [
    "## 2.2 Handle Missing values"
   ]
  },
  {
   "cell_type": "code",
   "execution_count": 236,
   "metadata": {},
   "outputs": [
    {
     "name": "stdout",
     "output_type": "stream",
     "text": [
      "Company  (Maker-if known)           0\n",
      "Specific Bean Origin or Bar Name    0\n",
      "REF                                 0\n",
      "Review Date                         0\n",
      "Cocoa Percent                       0\n",
      "Company Location                    0\n",
      "Rating                              0\n",
      "Bean Type                           1\n",
      "Broad Bean Origin                   1\n",
      "dtype: int64\n"
     ]
    }
   ],
   "source": [
    "#check for missing values \n",
    "print(df.isnull().sum())"
   ]
  },
  {
   "cell_type": "markdown",
   "metadata": {},
   "source": [
    "- since there is only 1 value missing for each column we are going to drop the rows with missing values"
   ]
  },
  {
   "cell_type": "code",
   "execution_count": 237,
   "metadata": {},
   "outputs": [
    {
     "data": {
      "text/plain": [
       "Company  (Maker-if known)           0\n",
       "Specific Bean Origin or Bar Name    0\n",
       "REF                                 0\n",
       "Review Date                         0\n",
       "Cocoa Percent                       0\n",
       "Company Location                    0\n",
       "Rating                              0\n",
       "Bean Type                           0\n",
       "Broad Bean Origin                   0\n",
       "dtype: int64"
      ]
     },
     "execution_count": 237,
     "metadata": {},
     "output_type": "execute_result"
    }
   ],
   "source": [
    "#drop rows with missing values\n",
    "df = df.dropna()\n",
    "df.isnull().sum()"
   ]
  },
  {
   "cell_type": "markdown",
   "metadata": {},
   "source": [
    "## 2.3 Handle Incorrect Data Types"
   ]
  },
  {
   "cell_type": "code",
   "execution_count": 238,
   "metadata": {},
   "outputs": [
    {
     "data": {
      "text/plain": [
       "0       63.0\n",
       "1       70.0\n",
       "2       70.0\n",
       "3       70.0\n",
       "4       70.0\n",
       "        ... \n",
       "1790    70.0\n",
       "1791    65.0\n",
       "1792    65.0\n",
       "1793    62.0\n",
       "1794    65.0\n",
       "Name: Cocoa Percent, Length: 1793, dtype: float64"
      ]
     },
     "execution_count": 238,
     "metadata": {},
     "output_type": "execute_result"
    }
   ],
   "source": [
    "# Convert Cocoa Percent to a numerical value to perform analysis\n",
    "df['Cocoa Percent'] = df['Cocoa Percent'].str.replace('%', '').astype(float)\n",
    "df['Cocoa Percent']"
   ]
  },
  {
   "cell_type": "markdown",
   "metadata": {},
   "source": [
    "## 2.4 Filter Region Names"
   ]
  },
  {
   "cell_type": "code",
   "execution_count": 239,
   "metadata": {},
   "outputs": [
    {
     "name": "stdout",
     "output_type": "stream",
     "text": [
      "Broad Bean Origin\n",
      "Venezuela                 214\n",
      "Ecuador                   193\n",
      "Peru                      165\n",
      "Madagascar                145\n",
      "Dominican Republic        141\n",
      "                           73\n",
      "Nicaragua                  60\n",
      "Brazil                     58\n",
      "Bolivia                    57\n",
      "Belize                     49\n",
      "Papua New Guinea           42\n",
      "Colombia                   40\n",
      "Costa Rica                 38\n",
      "Vietnam                    38\n",
      "Tanzania                   34\n",
      "Ghana                      33\n",
      "Trinidad                   33\n",
      "Mexico                     30\n",
      "Hawaii                     28\n",
      "Guatemala                  28\n",
      "Domincan Republic          25\n",
      "Jamaica                    20\n",
      "Grenada                    19\n",
      "Indonesia                  16\n",
      "Honduras                   15\n",
      "Cuba                       11\n",
      "Congo                      10\n",
      "Sao Tome                   10\n",
      "Haiti                       9\n",
      "Fiji                        8\n",
      "Carribean                   8\n",
      "St. Lucia                   8\n",
      "Uganda                      8\n",
      "Sao Tome & Principe         7\n",
      "Vanuatu                     7\n",
      "Panama                      7\n",
      "West Africa                 6\n",
      "Ivory Coast                 5\n",
      "Philippines                 5\n",
      "Puerto Rico                 4\n",
      "India                       4\n",
      "Solomon Islands             4\n",
      "Central and S. America      4\n",
      "Colombia, Ecuador           3\n",
      "Malaysia                    3\n",
      "South America               3\n",
      "Australia                   3\n",
      "Liberia                     3\n",
      "Togo                        3\n",
      "Trinidad, Tobago            2\n",
      "Name: count, dtype: int64\n"
     ]
    }
   ],
   "source": [
    "top_origins = df['Broad Bean Origin'].value_counts().head(50)\n",
    "print(top_origins)"
   ]
  },
  {
   "cell_type": "code",
   "execution_count": 240,
   "metadata": {},
   "outputs": [
    {
     "data": {
      "text/html": [
       "<div>\n",
       "<style scoped>\n",
       "    .dataframe tbody tr th:only-of-type {\n",
       "        vertical-align: middle;\n",
       "    }\n",
       "\n",
       "    .dataframe tbody tr th {\n",
       "        vertical-align: top;\n",
       "    }\n",
       "\n",
       "    .dataframe thead th {\n",
       "        text-align: right;\n",
       "    }\n",
       "</style>\n",
       "<table border=\"1\" class=\"dataframe\">\n",
       "  <thead>\n",
       "    <tr style=\"text-align: right;\">\n",
       "      <th></th>\n",
       "      <th>Company  (Maker-if known)</th>\n",
       "      <th>Specific Bean Origin or Bar Name</th>\n",
       "      <th>REF</th>\n",
       "      <th>Review Date</th>\n",
       "      <th>Cocoa Percent</th>\n",
       "      <th>Company Location</th>\n",
       "      <th>Rating</th>\n",
       "      <th>Bean Type</th>\n",
       "      <th>Broad Bean Origin</th>\n",
       "    </tr>\n",
       "  </thead>\n",
       "  <tbody>\n",
       "    <tr>\n",
       "      <th>0</th>\n",
       "      <td>A. Morin</td>\n",
       "      <td>Agua Grande</td>\n",
       "      <td>1876</td>\n",
       "      <td>2016</td>\n",
       "      <td>63.0</td>\n",
       "      <td>France</td>\n",
       "      <td>3.75</td>\n",
       "      <td></td>\n",
       "      <td>Sao Tome</td>\n",
       "    </tr>\n",
       "    <tr>\n",
       "      <th>1</th>\n",
       "      <td>A. Morin</td>\n",
       "      <td>Kpime</td>\n",
       "      <td>1676</td>\n",
       "      <td>2015</td>\n",
       "      <td>70.0</td>\n",
       "      <td>France</td>\n",
       "      <td>2.75</td>\n",
       "      <td></td>\n",
       "      <td>Togo</td>\n",
       "    </tr>\n",
       "    <tr>\n",
       "      <th>2</th>\n",
       "      <td>A. Morin</td>\n",
       "      <td>Atsane</td>\n",
       "      <td>1676</td>\n",
       "      <td>2015</td>\n",
       "      <td>70.0</td>\n",
       "      <td>France</td>\n",
       "      <td>3.00</td>\n",
       "      <td></td>\n",
       "      <td>Togo</td>\n",
       "    </tr>\n",
       "    <tr>\n",
       "      <th>3</th>\n",
       "      <td>A. Morin</td>\n",
       "      <td>Akata</td>\n",
       "      <td>1680</td>\n",
       "      <td>2015</td>\n",
       "      <td>70.0</td>\n",
       "      <td>France</td>\n",
       "      <td>3.50</td>\n",
       "      <td></td>\n",
       "      <td>Togo</td>\n",
       "    </tr>\n",
       "    <tr>\n",
       "      <th>4</th>\n",
       "      <td>A. Morin</td>\n",
       "      <td>Quilla</td>\n",
       "      <td>1704</td>\n",
       "      <td>2015</td>\n",
       "      <td>70.0</td>\n",
       "      <td>France</td>\n",
       "      <td>3.50</td>\n",
       "      <td></td>\n",
       "      <td>Peru</td>\n",
       "    </tr>\n",
       "    <tr>\n",
       "      <th>...</th>\n",
       "      <td>...</td>\n",
       "      <td>...</td>\n",
       "      <td>...</td>\n",
       "      <td>...</td>\n",
       "      <td>...</td>\n",
       "      <td>...</td>\n",
       "      <td>...</td>\n",
       "      <td>...</td>\n",
       "      <td>...</td>\n",
       "    </tr>\n",
       "    <tr>\n",
       "      <th>1790</th>\n",
       "      <td>Zotter</td>\n",
       "      <td>Peru</td>\n",
       "      <td>647</td>\n",
       "      <td>2011</td>\n",
       "      <td>70.0</td>\n",
       "      <td>Austria</td>\n",
       "      <td>3.75</td>\n",
       "      <td></td>\n",
       "      <td>Peru</td>\n",
       "    </tr>\n",
       "    <tr>\n",
       "      <th>1791</th>\n",
       "      <td>Zotter</td>\n",
       "      <td>Congo</td>\n",
       "      <td>749</td>\n",
       "      <td>2011</td>\n",
       "      <td>65.0</td>\n",
       "      <td>Austria</td>\n",
       "      <td>3.00</td>\n",
       "      <td>Forastero</td>\n",
       "      <td>Congo</td>\n",
       "    </tr>\n",
       "    <tr>\n",
       "      <th>1792</th>\n",
       "      <td>Zotter</td>\n",
       "      <td>Kerala State</td>\n",
       "      <td>749</td>\n",
       "      <td>2011</td>\n",
       "      <td>65.0</td>\n",
       "      <td>Austria</td>\n",
       "      <td>3.50</td>\n",
       "      <td>Forastero</td>\n",
       "      <td>India</td>\n",
       "    </tr>\n",
       "    <tr>\n",
       "      <th>1793</th>\n",
       "      <td>Zotter</td>\n",
       "      <td>Kerala State</td>\n",
       "      <td>781</td>\n",
       "      <td>2011</td>\n",
       "      <td>62.0</td>\n",
       "      <td>Austria</td>\n",
       "      <td>3.25</td>\n",
       "      <td></td>\n",
       "      <td>India</td>\n",
       "    </tr>\n",
       "    <tr>\n",
       "      <th>1794</th>\n",
       "      <td>Zotter</td>\n",
       "      <td>Brazil, Mitzi Blue</td>\n",
       "      <td>486</td>\n",
       "      <td>2010</td>\n",
       "      <td>65.0</td>\n",
       "      <td>Austria</td>\n",
       "      <td>3.00</td>\n",
       "      <td></td>\n",
       "      <td>Brazil</td>\n",
       "    </tr>\n",
       "  </tbody>\n",
       "</table>\n",
       "<p>1739 rows × 9 columns</p>\n",
       "</div>"
      ],
      "text/plain": [
       "     Company  (Maker-if known) Specific Bean Origin or Bar Name   REF  \\\n",
       "0                     A. Morin                      Agua Grande  1876   \n",
       "1                     A. Morin                            Kpime  1676   \n",
       "2                     A. Morin                           Atsane  1676   \n",
       "3                     A. Morin                            Akata  1680   \n",
       "4                     A. Morin                           Quilla  1704   \n",
       "...                        ...                              ...   ...   \n",
       "1790                    Zotter                             Peru   647   \n",
       "1791                    Zotter                            Congo   749   \n",
       "1792                    Zotter                     Kerala State   749   \n",
       "1793                    Zotter                     Kerala State   781   \n",
       "1794                    Zotter               Brazil, Mitzi Blue   486   \n",
       "\n",
       "      Review Date  Cocoa Percent Company Location  Rating  Bean Type  \\\n",
       "0            2016           63.0           France    3.75              \n",
       "1            2015           70.0           France    2.75              \n",
       "2            2015           70.0           France    3.00              \n",
       "3            2015           70.0           France    3.50              \n",
       "4            2015           70.0           France    3.50              \n",
       "...           ...            ...              ...     ...        ...   \n",
       "1790         2011           70.0          Austria    3.75              \n",
       "1791         2011           65.0          Austria    3.00  Forastero   \n",
       "1792         2011           65.0          Austria    3.50  Forastero   \n",
       "1793         2011           62.0          Austria    3.25              \n",
       "1794         2010           65.0          Austria    3.00              \n",
       "\n",
       "     Broad Bean Origin  \n",
       "0             Sao Tome  \n",
       "1                 Togo  \n",
       "2                 Togo  \n",
       "3                 Togo  \n",
       "4                 Peru  \n",
       "...                ...  \n",
       "1790              Peru  \n",
       "1791             Congo  \n",
       "1792             India  \n",
       "1793             India  \n",
       "1794            Brazil  \n",
       "\n",
       "[1739 rows x 9 columns]"
      ]
     },
     "execution_count": 240,
     "metadata": {},
     "output_type": "execute_result"
    }
   ],
   "source": [
    "# Filter the dataset to only include top 10 origins\n",
    "top_origins_list = top_origins.index\n",
    "df_top_origins = df[df['Broad Bean Origin'].isin(top_origins_list)]\n",
    "df_top_origins\n"
   ]
  },
  {
   "cell_type": "markdown",
   "metadata": {},
   "source": [
    "## 2.5 Create New Columns/Features"
   ]
  },
  {
   "cell_type": "markdown",
   "metadata": {},
   "source": [
    "Review Year: Extract the year from the review date for trend analysis."
   ]
  },
  {
   "cell_type": "code",
   "execution_count": 241,
   "metadata": {},
   "outputs": [
    {
     "data": {
      "text/plain": [
       "0       2016\n",
       "1       2015\n",
       "2       2015\n",
       "3       2015\n",
       "4       2015\n",
       "        ... \n",
       "1790    2011\n",
       "1791    2011\n",
       "1792    2011\n",
       "1793    2011\n",
       "1794    2010\n",
       "Name: Review Year, Length: 1793, dtype: int32"
      ]
     },
     "execution_count": 241,
     "metadata": {},
     "output_type": "execute_result"
    }
   ],
   "source": [
    "df['Review Year'] = pd.to_datetime(df['Review Date'], format='%Y').dt.year\n",
    "df['Review Year']\n"
   ]
  },
  {
   "cell_type": "markdown",
   "metadata": {},
   "source": [
    "Average Rating by Company: Calculate the average rating for each company."
   ]
  },
  {
   "cell_type": "code",
   "execution_count": 242,
   "metadata": {},
   "outputs": [
    {
     "data": {
      "text/plain": [
       "0       A. Morin\n",
       "1       A. Morin\n",
       "2       A. Morin\n",
       "3       A. Morin\n",
       "4       A. Morin\n",
       "          ...   \n",
       "1790      Zotter\n",
       "1791      Zotter\n",
       "1792      Zotter\n",
       "1793      Zotter\n",
       "1794      Zotter\n",
       "Name: Company  (Maker-if known), Length: 1793, dtype: object"
      ]
     },
     "execution_count": 242,
     "metadata": {},
     "output_type": "execute_result"
    }
   ],
   "source": [
    "df['Company\\xa0 (Maker-if known)']"
   ]
  },
  {
   "cell_type": "code",
   "execution_count": 243,
   "metadata": {},
   "outputs": [
    {
     "data": {
      "text/html": [
       "<div>\n",
       "<style scoped>\n",
       "    .dataframe tbody tr th:only-of-type {\n",
       "        vertical-align: middle;\n",
       "    }\n",
       "\n",
       "    .dataframe tbody tr th {\n",
       "        vertical-align: top;\n",
       "    }\n",
       "\n",
       "    .dataframe thead th {\n",
       "        text-align: right;\n",
       "    }\n",
       "</style>\n",
       "<table border=\"1\" class=\"dataframe\">\n",
       "  <thead>\n",
       "    <tr style=\"text-align: right;\">\n",
       "      <th></th>\n",
       "      <th>Company  (Maker-if known)</th>\n",
       "      <th>Average Rating</th>\n",
       "    </tr>\n",
       "  </thead>\n",
       "  <tbody>\n",
       "    <tr>\n",
       "      <th>0</th>\n",
       "      <td>A. Morin</td>\n",
       "      <td>3.380435</td>\n",
       "    </tr>\n",
       "    <tr>\n",
       "      <th>1</th>\n",
       "      <td>AMMA</td>\n",
       "      <td>3.500000</td>\n",
       "    </tr>\n",
       "    <tr>\n",
       "      <th>2</th>\n",
       "      <td>Acalli</td>\n",
       "      <td>3.750000</td>\n",
       "    </tr>\n",
       "    <tr>\n",
       "      <th>3</th>\n",
       "      <td>Adi</td>\n",
       "      <td>3.250000</td>\n",
       "    </tr>\n",
       "    <tr>\n",
       "      <th>4</th>\n",
       "      <td>Aequare (Gianduja)</td>\n",
       "      <td>2.875000</td>\n",
       "    </tr>\n",
       "    <tr>\n",
       "      <th>...</th>\n",
       "      <td>...</td>\n",
       "      <td>...</td>\n",
       "    </tr>\n",
       "    <tr>\n",
       "      <th>411</th>\n",
       "      <td>hello cocoa</td>\n",
       "      <td>3.125000</td>\n",
       "    </tr>\n",
       "    <tr>\n",
       "      <th>412</th>\n",
       "      <td>hexx</td>\n",
       "      <td>3.050000</td>\n",
       "    </tr>\n",
       "    <tr>\n",
       "      <th>413</th>\n",
       "      <td>iQ Chocolate</td>\n",
       "      <td>2.875000</td>\n",
       "    </tr>\n",
       "    <tr>\n",
       "      <th>414</th>\n",
       "      <td>organicfair</td>\n",
       "      <td>2.850000</td>\n",
       "    </tr>\n",
       "    <tr>\n",
       "      <th>415</th>\n",
       "      <td>twenty-four blackbirds</td>\n",
       "      <td>3.041667</td>\n",
       "    </tr>\n",
       "  </tbody>\n",
       "</table>\n",
       "<p>416 rows × 2 columns</p>\n",
       "</div>"
      ],
      "text/plain": [
       "    Company  (Maker-if known)  Average Rating\n",
       "0                    A. Morin        3.380435\n",
       "1                        AMMA        3.500000\n",
       "2                      Acalli        3.750000\n",
       "3                         Adi        3.250000\n",
       "4          Aequare (Gianduja)        2.875000\n",
       "..                        ...             ...\n",
       "411               hello cocoa        3.125000\n",
       "412                      hexx        3.050000\n",
       "413              iQ Chocolate        2.875000\n",
       "414               organicfair        2.850000\n",
       "415    twenty-four blackbirds        3.041667\n",
       "\n",
       "[416 rows x 2 columns]"
      ]
     },
     "execution_count": 243,
     "metadata": {},
     "output_type": "execute_result"
    }
   ],
   "source": [
    "company_avg_rating = df.groupby('Company\\xa0 (Maker-if known)')['Rating'].mean().reset_index()\n",
    "company_avg_rating.rename(columns={'Rating': 'Average Rating'}, inplace=True)\n",
    "df = df.merge(company_avg_rating, on='Company\\xa0 (Maker-if known)', how='left')\n",
    "company_avg_rating\n"
   ]
  },
  {
   "cell_type": "code",
   "execution_count": 244,
   "metadata": {},
   "outputs": [
    {
     "data": {
      "text/html": [
       "<div>\n",
       "<style scoped>\n",
       "    .dataframe tbody tr th:only-of-type {\n",
       "        vertical-align: middle;\n",
       "    }\n",
       "\n",
       "    .dataframe tbody tr th {\n",
       "        vertical-align: top;\n",
       "    }\n",
       "\n",
       "    .dataframe thead th {\n",
       "        text-align: right;\n",
       "    }\n",
       "</style>\n",
       "<table border=\"1\" class=\"dataframe\">\n",
       "  <thead>\n",
       "    <tr style=\"text-align: right;\">\n",
       "      <th></th>\n",
       "      <th>Average Rating</th>\n",
       "    </tr>\n",
       "  </thead>\n",
       "  <tbody>\n",
       "    <tr>\n",
       "      <th>count</th>\n",
       "      <td>416.000000</td>\n",
       "    </tr>\n",
       "    <tr>\n",
       "      <th>mean</th>\n",
       "      <td>3.084993</td>\n",
       "    </tr>\n",
       "    <tr>\n",
       "      <th>std</th>\n",
       "      <td>0.374721</td>\n",
       "    </tr>\n",
       "    <tr>\n",
       "      <th>min</th>\n",
       "      <td>1.000000</td>\n",
       "    </tr>\n",
       "    <tr>\n",
       "      <th>25%</th>\n",
       "      <td>2.845833</td>\n",
       "    </tr>\n",
       "    <tr>\n",
       "      <th>50%</th>\n",
       "      <td>3.125000</td>\n",
       "    </tr>\n",
       "    <tr>\n",
       "      <th>75%</th>\n",
       "      <td>3.359375</td>\n",
       "    </tr>\n",
       "    <tr>\n",
       "      <th>max</th>\n",
       "      <td>4.000000</td>\n",
       "    </tr>\n",
       "  </tbody>\n",
       "</table>\n",
       "</div>"
      ],
      "text/plain": [
       "       Average Rating\n",
       "count      416.000000\n",
       "mean         3.084993\n",
       "std          0.374721\n",
       "min          1.000000\n",
       "25%          2.845833\n",
       "50%          3.125000\n",
       "75%          3.359375\n",
       "max          4.000000"
      ]
     },
     "execution_count": 244,
     "metadata": {},
     "output_type": "execute_result"
    }
   ],
   "source": [
    "company_avg_rating.describe()"
   ]
  },
  {
   "cell_type": "markdown",
   "metadata": {},
   "source": [
    "Bean Type Count: Count the occurrences of each bean type in the dataset.\n",
    "\n"
   ]
  },
  {
   "cell_type": "code",
   "execution_count": 245,
   "metadata": {},
   "outputs": [
    {
     "data": {
      "text/html": [
       "<div>\n",
       "<style scoped>\n",
       "    .dataframe tbody tr th:only-of-type {\n",
       "        vertical-align: middle;\n",
       "    }\n",
       "\n",
       "    .dataframe tbody tr th {\n",
       "        vertical-align: top;\n",
       "    }\n",
       "\n",
       "    .dataframe thead th {\n",
       "        text-align: right;\n",
       "    }\n",
       "</style>\n",
       "<table border=\"1\" class=\"dataframe\">\n",
       "  <thead>\n",
       "    <tr style=\"text-align: right;\">\n",
       "      <th></th>\n",
       "      <th>Bean Type</th>\n",
       "      <th>Count</th>\n",
       "    </tr>\n",
       "  </thead>\n",
       "  <tbody>\n",
       "    <tr>\n",
       "      <th>0</th>\n",
       "      <td></td>\n",
       "      <td>887</td>\n",
       "    </tr>\n",
       "    <tr>\n",
       "      <th>1</th>\n",
       "      <td>Trinitario</td>\n",
       "      <td>418</td>\n",
       "    </tr>\n",
       "    <tr>\n",
       "      <th>2</th>\n",
       "      <td>Criollo</td>\n",
       "      <td>153</td>\n",
       "    </tr>\n",
       "    <tr>\n",
       "      <th>3</th>\n",
       "      <td>Forastero</td>\n",
       "      <td>87</td>\n",
       "    </tr>\n",
       "    <tr>\n",
       "      <th>4</th>\n",
       "      <td>Forastero (Nacional)</td>\n",
       "      <td>52</td>\n",
       "    </tr>\n",
       "    <tr>\n",
       "      <th>5</th>\n",
       "      <td>Blend</td>\n",
       "      <td>41</td>\n",
       "    </tr>\n",
       "    <tr>\n",
       "      <th>6</th>\n",
       "      <td>Criollo, Trinitario</td>\n",
       "      <td>39</td>\n",
       "    </tr>\n",
       "    <tr>\n",
       "      <th>7</th>\n",
       "      <td>Forastero (Arriba)</td>\n",
       "      <td>37</td>\n",
       "    </tr>\n",
       "    <tr>\n",
       "      <th>8</th>\n",
       "      <td>Criollo (Porcelana)</td>\n",
       "      <td>10</td>\n",
       "    </tr>\n",
       "    <tr>\n",
       "      <th>9</th>\n",
       "      <td>Trinitario, Criollo</td>\n",
       "      <td>9</td>\n",
       "    </tr>\n",
       "    <tr>\n",
       "      <th>10</th>\n",
       "      <td>Forastero (Parazinho)</td>\n",
       "      <td>8</td>\n",
       "    </tr>\n",
       "    <tr>\n",
       "      <th>11</th>\n",
       "      <td>Forastero (Arriba) ASS</td>\n",
       "      <td>6</td>\n",
       "    </tr>\n",
       "    <tr>\n",
       "      <th>12</th>\n",
       "      <td>Nacional (Arriba)</td>\n",
       "      <td>3</td>\n",
       "    </tr>\n",
       "    <tr>\n",
       "      <th>13</th>\n",
       "      <td>Matina</td>\n",
       "      <td>3</td>\n",
       "    </tr>\n",
       "    <tr>\n",
       "      <th>14</th>\n",
       "      <td>EET</td>\n",
       "      <td>3</td>\n",
       "    </tr>\n",
       "    <tr>\n",
       "      <th>15</th>\n",
       "      <td>Beniano</td>\n",
       "      <td>3</td>\n",
       "    </tr>\n",
       "    <tr>\n",
       "      <th>16</th>\n",
       "      <td>Criollo (Ocumare 61)</td>\n",
       "      <td>2</td>\n",
       "    </tr>\n",
       "    <tr>\n",
       "      <th>17</th>\n",
       "      <td>Trinitario, Forastero</td>\n",
       "      <td>2</td>\n",
       "    </tr>\n",
       "    <tr>\n",
       "      <th>18</th>\n",
       "      <td>Trinitario (85% Criollo)</td>\n",
       "      <td>2</td>\n",
       "    </tr>\n",
       "    <tr>\n",
       "      <th>19</th>\n",
       "      <td>Forastero (Catongo)</td>\n",
       "      <td>2</td>\n",
       "    </tr>\n",
       "    <tr>\n",
       "      <th>20</th>\n",
       "      <td>Criollo, Forastero</td>\n",
       "      <td>2</td>\n",
       "    </tr>\n",
       "    <tr>\n",
       "      <th>21</th>\n",
       "      <td>Amazon, ICS</td>\n",
       "      <td>2</td>\n",
       "    </tr>\n",
       "    <tr>\n",
       "      <th>22</th>\n",
       "      <td>Criollo (Amarru)</td>\n",
       "      <td>2</td>\n",
       "    </tr>\n",
       "    <tr>\n",
       "      <th>23</th>\n",
       "      <td>Amazon mix</td>\n",
       "      <td>2</td>\n",
       "    </tr>\n",
       "    <tr>\n",
       "      <th>24</th>\n",
       "      <td>Nacional</td>\n",
       "      <td>2</td>\n",
       "    </tr>\n",
       "    <tr>\n",
       "      <th>25</th>\n",
       "      <td>Criollo (Ocumare)</td>\n",
       "      <td>1</td>\n",
       "    </tr>\n",
       "    <tr>\n",
       "      <th>26</th>\n",
       "      <td>Criollo (Ocumare 67)</td>\n",
       "      <td>1</td>\n",
       "    </tr>\n",
       "    <tr>\n",
       "      <th>27</th>\n",
       "      <td>Trinitario, TCGA</td>\n",
       "      <td>1</td>\n",
       "    </tr>\n",
       "    <tr>\n",
       "      <th>28</th>\n",
       "      <td>Trinitario (Amelonado)</td>\n",
       "      <td>1</td>\n",
       "    </tr>\n",
       "    <tr>\n",
       "      <th>29</th>\n",
       "      <td>Trinitario, Nacional</td>\n",
       "      <td>1</td>\n",
       "    </tr>\n",
       "    <tr>\n",
       "      <th>30</th>\n",
       "      <td>Forastero (Amelonado)</td>\n",
       "      <td>1</td>\n",
       "    </tr>\n",
       "    <tr>\n",
       "      <th>31</th>\n",
       "      <td>Forastero, Trinitario</td>\n",
       "      <td>1</td>\n",
       "    </tr>\n",
       "    <tr>\n",
       "      <th>32</th>\n",
       "      <td>Forastero (Arriba) ASSS</td>\n",
       "      <td>1</td>\n",
       "    </tr>\n",
       "    <tr>\n",
       "      <th>33</th>\n",
       "      <td>Forastero(Arriba, CCN)</td>\n",
       "      <td>1</td>\n",
       "    </tr>\n",
       "    <tr>\n",
       "      <th>34</th>\n",
       "      <td>Criollo, +</td>\n",
       "      <td>1</td>\n",
       "    </tr>\n",
       "    <tr>\n",
       "      <th>35</th>\n",
       "      <td>Criollo (Wild)</td>\n",
       "      <td>1</td>\n",
       "    </tr>\n",
       "    <tr>\n",
       "      <th>36</th>\n",
       "      <td>Trinitario (Scavina)</td>\n",
       "      <td>1</td>\n",
       "    </tr>\n",
       "    <tr>\n",
       "      <th>37</th>\n",
       "      <td>Criollo (Ocumare 77)</td>\n",
       "      <td>1</td>\n",
       "    </tr>\n",
       "    <tr>\n",
       "      <th>38</th>\n",
       "      <td>CCN51</td>\n",
       "      <td>1</td>\n",
       "    </tr>\n",
       "    <tr>\n",
       "      <th>39</th>\n",
       "      <td>Amazon</td>\n",
       "      <td>1</td>\n",
       "    </tr>\n",
       "    <tr>\n",
       "      <th>40</th>\n",
       "      <td>Blend-Forastero,Criollo</td>\n",
       "      <td>1</td>\n",
       "    </tr>\n",
       "  </tbody>\n",
       "</table>\n",
       "</div>"
      ],
      "text/plain": [
       "                   Bean Type  Count\n",
       "0                               887\n",
       "1                 Trinitario    418\n",
       "2                    Criollo    153\n",
       "3                  Forastero     87\n",
       "4       Forastero (Nacional)     52\n",
       "5                      Blend     41\n",
       "6        Criollo, Trinitario     39\n",
       "7         Forastero (Arriba)     37\n",
       "8        Criollo (Porcelana)     10\n",
       "9        Trinitario, Criollo      9\n",
       "10     Forastero (Parazinho)      8\n",
       "11    Forastero (Arriba) ASS      6\n",
       "12         Nacional (Arriba)      3\n",
       "13                    Matina      3\n",
       "14                       EET      3\n",
       "15                   Beniano      3\n",
       "16      Criollo (Ocumare 61)      2\n",
       "17     Trinitario, Forastero      2\n",
       "18  Trinitario (85% Criollo)      2\n",
       "19       Forastero (Catongo)      2\n",
       "20        Criollo, Forastero      2\n",
       "21               Amazon, ICS      2\n",
       "22          Criollo (Amarru)      2\n",
       "23                Amazon mix      2\n",
       "24                  Nacional      2\n",
       "25         Criollo (Ocumare)      1\n",
       "26      Criollo (Ocumare 67)      1\n",
       "27          Trinitario, TCGA      1\n",
       "28    Trinitario (Amelonado)      1\n",
       "29      Trinitario, Nacional      1\n",
       "30     Forastero (Amelonado)      1\n",
       "31     Forastero, Trinitario      1\n",
       "32   Forastero (Arriba) ASSS      1\n",
       "33    Forastero(Arriba, CCN)      1\n",
       "34                Criollo, +      1\n",
       "35            Criollo (Wild)      1\n",
       "36      Trinitario (Scavina)      1\n",
       "37      Criollo (Ocumare 77)      1\n",
       "38                     CCN51      1\n",
       "39                    Amazon      1\n",
       "40   Blend-Forastero,Criollo      1"
      ]
     },
     "execution_count": 245,
     "metadata": {},
     "output_type": "execute_result"
    }
   ],
   "source": [
    "\n",
    "bean_type_count = df['Bean Type'].value_counts().reset_index()\n",
    "bean_type_count.columns = ['Bean Type', 'Count']\n",
    "bean_type_count"
   ]
  },
  {
   "cell_type": "markdown",
   "metadata": {},
   "source": [
    "Rating Category: Categorize ratings into qualitative groups for better insight (e.g., 'Elite', 'Premium', etc.)"
   ]
  },
  {
   "cell_type": "code",
   "execution_count": 246,
   "metadata": {},
   "outputs": [
    {
     "data": {
      "text/plain": [
       "Rating Category\n",
       "Premium          1246\n",
       "Satisfactory      431\n",
       "Elite              97\n",
       "Disappointing      17\n",
       "Unpleasant          0\n",
       "Name: count, dtype: int64"
      ]
     },
     "execution_count": 246,
     "metadata": {},
     "output_type": "execute_result"
    }
   ],
   "source": [
    "bins = [0, 1, 2, 3, 4, 5]\n",
    "labels = ['Unpleasant', 'Disappointing', 'Satisfactory', 'Premium', 'Elite']\n",
    "df['Rating Category'] = pd.cut(df['Rating'], bins=bins, labels=labels, right=False)\n",
    "df['Rating Category'].value_counts()\n"
   ]
  },
  {
   "cell_type": "markdown",
   "metadata": {},
   "source": [
    "## Data Analysis ##"
   ]
  },
  {
   "cell_type": "markdown",
   "metadata": {},
   "source": [
    "### Average Ratings by Company"
   ]
  },
  {
   "cell_type": "code",
   "execution_count": 247,
   "metadata": {},
   "outputs": [
    {
     "data": {
      "image/png": "[encoded data removed]",
      "text/plain": [
       "<Figure size 1200x600 with 1 Axes>"
      ]
     },
     "metadata": {},
     "output_type": "display_data"
    }
   ],
   "source": [
    "plt.figure(figsize=(12, 6))\n",
    "avg_rating_company = df.groupby('Company\\xa0 (Maker-if known)')['Rating'].mean().sort_values(ascending=False).head(10)\n",
    "sns.barplot(x=avg_rating_company.values, y=avg_rating_company.index)\n",
    "plt.title(\"Top 10 Companies by Average Rating\")\n",
    "plt.xlabel(\"Average Rating\")\n",
    "plt.ylabel(\"Company\")\n",
    "plt.show()\n"
   ]
  },
  {
   "cell_type": "markdown",
   "metadata": {},
   "source": [
    "- the company with the highest average rating is Tobago Estate with a 4.0 rating score\n",
    "- the average company rating is 3.0 "
   ]
  },
  {
   "cell_type": "markdown",
   "metadata": {},
   "source": [
    "### Impact of Cocoa Percentage"
   ]
  },
  {
   "cell_type": "code",
   "execution_count": 248,
   "metadata": {},
   "outputs": [
    {
     "data": {
      "image/png": "[encoded data removed]",
      "text/plain": [
       "<Figure size 1000x600 with 1 Axes>"
      ]
     },
     "metadata": {},
     "output_type": "display_data"
    }
   ],
   "source": [
    "plt.figure(figsize=(10, 6))\n",
    "sns.scatterplot(data=df, x='Cocoa Percent', y='Rating')\n",
    "plt.title(\"Cocoa Percentage vs Rating\")\n",
    "plt.xlabel(\"Cocoa Percentage\")\n",
    "plt.ylabel(\"Rating\")\n",
    "plt.show()\n"
   ]
  },
  {
   "cell_type": "markdown",
   "metadata": {},
   "source": [
    "- there are a few outliers within this graph\n",
    "- chocolate with a high rating usually contains anywhere from 60% - 90% of cocoa"
   ]
  },
  {
   "cell_type": "markdown",
   "metadata": {},
   "source": [
    "### Trends Over Time:"
   ]
  },
  {
   "cell_type": "code",
   "execution_count": 249,
   "metadata": {},
   "outputs": [
    {
     "data": {
      "image/png": "[encoded data removed]",
      "text/plain": [
       "<Figure size 1200x600 with 1 Axes>"
      ]
     },
     "metadata": {},
     "output_type": "display_data"
    }
   ],
   "source": [
    "plt.figure(figsize=(12, 6))\n",
    "rating_trend = df.groupby('Review Year')['Rating'].mean()\n",
    "sns.lineplot(x=rating_trend.index, y=rating_trend.values)\n",
    "plt.title(\"Average Chocolate Rating Over Years\")\n",
    "plt.xlabel(\"Year\")\n",
    "plt.ylabel(\"Average Rating\")\n",
    "plt.show()\n"
   ]
  },
  {
   "cell_type": "markdown",
   "metadata": {},
   "source": [
    "- as time increases the average rating increases as well which might be influenced different factors such as new reciepes, technology advancemnt, and demand for chocolate."
   ]
  },
  {
   "cell_type": "markdown",
   "metadata": {},
   "source": [
    "### Regional Preferences"
   ]
  },
  {
   "cell_type": "code",
   "execution_count": 250,
   "metadata": {},
   "outputs": [
    {
     "data": {
      "image/png": "[encoded data removed]",
      "text/plain": [
       "<Figure size 1200x800 with 1 Axes>"
      ]
     },
     "metadata": {},
     "output_type": "display_data"
    }
   ],
   "source": [
    "plt.figure(figsize=(12, 8))\n",
    "regional_ratings = df.groupby('Broad Bean Origin')['Rating'].mean().sort_values(ascending=False).head(10)\n",
    "sns.barplot(x=regional_ratings.values, y=regional_ratings.index)\n",
    "plt.title(\"Top 10 Broad Bean Origins by Average Rating\")\n",
    "plt.xlabel(\"Average Rating\")\n",
    "plt.ylabel(\"Broad Bean Origin\")\n",
    "plt.show()\n"
   ]
  },
  {
   "cell_type": "markdown",
   "metadata": {},
   "source": [
    "### Distribution of Ratings:\n"
   ]
  },
  {
   "cell_type": "code",
   "execution_count": 251,
   "metadata": {},
   "outputs": [
    {
     "data": {
      "image/png": "[encoded data removed]",
      "text/plain": [
       "<Figure size 1000x600 with 1 Axes>"
      ]
     },
     "metadata": {},
     "output_type": "display_data"
    }
   ],
   "source": [
    "plt.figure(figsize=(10, 6))\n",
    "sns.histplot(df['Rating'], bins=20, kde=True)\n",
    "plt.title(\"Distribution of Chocolate Bar Ratings\")\n",
    "plt.xlabel(\"Rating\")\n",
    "plt.ylabel(\"Frequency\")\n",
    "plt.show()\n"
   ]
  },
  {
   "cell_type": "markdown",
   "metadata": {},
   "source": [
    "### Effect of Bean Type"
   ]
  },
  {
   "cell_type": "markdown",
   "metadata": {},
   "source": [
    "Outliers and Quality Control:"
   ]
  },
  {
   "cell_type": "code",
   "execution_count": 252,
   "metadata": {},
   "outputs": [
    {
     "name": "stdout",
     "output_type": "stream",
     "text": [
      "Top Rated Bars:\n",
      "   Company  (Maker-if known) Specific Bean Origin or Bar Name   REF  \\\n",
      "78                    Amedei                            Chuao   111   \n",
      "86                    Amedei                    Toscano Black    40   \n",
      "9                   A. Morin                          Pablino  1319   \n",
      "17                  A. Morin                            Chuao  1015   \n",
      "20                  A. Morin             Chanchamayo Province  1019   \n",
      "\n",
      "    Review Date  Cocoa Percent Company Location  Rating   Bean Type  \\\n",
      "78         2007           70.0            Italy     5.0  Trinitario   \n",
      "86         2006           70.0            Italy     5.0       Blend   \n",
      "9          2014           70.0           France     4.0               \n",
      "17         2013           70.0           France     4.0  Trinitario   \n",
      "20         2013           63.0           France     4.0               \n",
      "\n",
      "   Broad Bean Origin  Review Year  Average Rating Rating Category  \n",
      "78         Venezuela         2007        3.846154             NaN  \n",
      "86                           2006        3.846154             NaN  \n",
      "9               Peru         2014        3.380435           Elite  \n",
      "17         Venezuela         2013        3.380435           Elite  \n",
      "20              Peru         2013        3.380435           Elite  \n",
      "\n",
      "Lowest Rated Bars:\n",
      "     Company  (Maker-if known) Specific Bean Origin or Bar Name  REF  \\\n",
      "326                  Callebaut                           Baking  141   \n",
      "437            Claudio Corallo                         Principe  252   \n",
      "465         Cote d' Or (Kraft)               Sensations Intense   48   \n",
      "1174       Neuhaus (Callebaut)                             Dark  135   \n",
      "245                     Bonnat                      One Hundred   81   \n",
      "\n",
      "      Review Date  Cocoa Percent Company Location  Rating  Bean Type  \\\n",
      "326          2007           70.0          Belgium     1.0              \n",
      "437          2008          100.0         Sao Tome     1.0  Forastero   \n",
      "465          2006           70.0          Belgium     1.0              \n",
      "1174         2007           73.0          Belgium     1.0              \n",
      "245          2006          100.0           France     1.5              \n",
      "\n",
      "        Broad Bean Origin  Review Year  Average Rating Rating Category  \n",
      "326               Ecuador         2007        1.875000   Disappointing  \n",
      "437   Sao Tome & Principe         2008        2.937500   Disappointing  \n",
      "465                               2006        1.000000   Disappointing  \n",
      "1174                              2007        2.500000   Disappointing  \n",
      "245                               2006        3.435185   Disappointing  \n"
     ]
    }
   ],
   "source": [
    "# Top 5 and Bottom 5 Rated Bars\n",
    "print(\"Top Rated Bars:\")\n",
    "print(df.nlargest(5, 'Rating'))\n",
    "\n",
    "print(\"\\nLowest Rated Bars:\")\n",
    "print(df.nsmallest(5, 'Rating'))"
   ]
  }
 ],
 "metadata": {
  "kernelspec": {
   "display_name": "cohort_env",
   "language": "python",
   "name": "python3"
  },
  "language_info": {
   "codemirror_mode": {
    "name": "ipython",
    "version": 3
   },
   "file_extension": ".py",
   "mimetype": "text/x-python",
   "name": "python",
   "nbconvert_exporter": "python",
   "pygments_lexer": "ipython3",
   "version": "3.12.5"
  }
 },
 "nbformat": 4,
 "nbformat_minor": 2
}
